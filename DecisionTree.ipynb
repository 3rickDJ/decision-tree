{
 "cells": [
  {
   "cell_type": "code",
   "execution_count": 1,
   "id": "531d0bf6-b551-4948-942d-d2f58c18b0eb",
   "metadata": {},
   "outputs": [],
   "source": [
    "# Decision Tree"
   ]
  },
  {
   "cell_type": "code",
   "execution_count": 2,
   "id": "2a98217a-0582-4677-ace6-76d0489127e1",
   "metadata": {},
   "outputs": [],
   "source": [
    "# load data base\n",
    "import numpy as np\n",
    "import pandas as pd"
   ]
  },
  {
   "cell_type": "code",
   "execution_count": 3,
   "id": "9236f389-460c-4509-8784-d6931926c895",
   "metadata": {},
   "outputs": [],
   "source": [
    "train_df = pd.read_csv('data/train.csv')"
   ]
  },
  {
   "cell_type": "code",
   "execution_count": 4,
   "id": "873f7b09-ea70-4fb1-8a9d-0b47b3be28af",
   "metadata": {},
   "outputs": [
    {
     "data": {
      "text/html": [
       "<div>\n",
       "<style scoped>\n",
       "    .dataframe tbody tr th:only-of-type {\n",
       "        vertical-align: middle;\n",
       "    }\n",
       "\n",
       "    .dataframe tbody tr th {\n",
       "        vertical-align: top;\n",
       "    }\n",
       "\n",
       "    .dataframe thead th {\n",
       "        text-align: right;\n",
       "    }\n",
       "</style>\n",
       "<table border=\"1\" class=\"dataframe\">\n",
       "  <thead>\n",
       "    <tr style=\"text-align: right;\">\n",
       "      <th></th>\n",
       "      <th>behavior_sexualRisk</th>\n",
       "      <th>behavior_eating</th>\n",
       "      <th>behavior_personalHygine</th>\n",
       "      <th>intention_aggregation</th>\n",
       "      <th>intention_commitment</th>\n",
       "      <th>attitude_consistency</th>\n",
       "      <th>attitude_spontaneity</th>\n",
       "      <th>norm_significantPerson</th>\n",
       "      <th>norm_fulfillment</th>\n",
       "      <th>perception_vulnerability</th>\n",
       "      <th>perception_severity</th>\n",
       "      <th>motivation_strength</th>\n",
       "      <th>motivation_willingness</th>\n",
       "      <th>socialSupport_emotionality</th>\n",
       "      <th>socialSupport_appreciation</th>\n",
       "      <th>socialSupport_instrumental</th>\n",
       "      <th>empowerment_knowledge</th>\n",
       "      <th>empowerment_abilities</th>\n",
       "      <th>empowerment_desires</th>\n",
       "      <th>ca_cervix</th>\n",
       "    </tr>\n",
       "  </thead>\n",
       "  <tbody>\n",
       "    <tr>\n",
       "      <th>0</th>\n",
       "      <td>10</td>\n",
       "      <td>15</td>\n",
       "      <td>15</td>\n",
       "      <td>10</td>\n",
       "      <td>15</td>\n",
       "      <td>9</td>\n",
       "      <td>10</td>\n",
       "      <td>5</td>\n",
       "      <td>11</td>\n",
       "      <td>15</td>\n",
       "      <td>10</td>\n",
       "      <td>15</td>\n",
       "      <td>15</td>\n",
       "      <td>15</td>\n",
       "      <td>10</td>\n",
       "      <td>15</td>\n",
       "      <td>15</td>\n",
       "      <td>15</td>\n",
       "      <td>15</td>\n",
       "      <td>0</td>\n",
       "    </tr>\n",
       "    <tr>\n",
       "      <th>1</th>\n",
       "      <td>10</td>\n",
       "      <td>11</td>\n",
       "      <td>14</td>\n",
       "      <td>10</td>\n",
       "      <td>15</td>\n",
       "      <td>10</td>\n",
       "      <td>10</td>\n",
       "      <td>5</td>\n",
       "      <td>15</td>\n",
       "      <td>14</td>\n",
       "      <td>10</td>\n",
       "      <td>15</td>\n",
       "      <td>9</td>\n",
       "      <td>9</td>\n",
       "      <td>4</td>\n",
       "      <td>3</td>\n",
       "      <td>14</td>\n",
       "      <td>11</td>\n",
       "      <td>15</td>\n",
       "      <td>0</td>\n",
       "    </tr>\n",
       "    <tr>\n",
       "      <th>2</th>\n",
       "      <td>10</td>\n",
       "      <td>15</td>\n",
       "      <td>14</td>\n",
       "      <td>10</td>\n",
       "      <td>11</td>\n",
       "      <td>10</td>\n",
       "      <td>8</td>\n",
       "      <td>5</td>\n",
       "      <td>11</td>\n",
       "      <td>15</td>\n",
       "      <td>10</td>\n",
       "      <td>15</td>\n",
       "      <td>15</td>\n",
       "      <td>15</td>\n",
       "      <td>10</td>\n",
       "      <td>15</td>\n",
       "      <td>15</td>\n",
       "      <td>15</td>\n",
       "      <td>15</td>\n",
       "      <td>0</td>\n",
       "    </tr>\n",
       "    <tr>\n",
       "      <th>3</th>\n",
       "      <td>10</td>\n",
       "      <td>14</td>\n",
       "      <td>11</td>\n",
       "      <td>10</td>\n",
       "      <td>15</td>\n",
       "      <td>9</td>\n",
       "      <td>10</td>\n",
       "      <td>5</td>\n",
       "      <td>15</td>\n",
       "      <td>15</td>\n",
       "      <td>10</td>\n",
       "      <td>15</td>\n",
       "      <td>13</td>\n",
       "      <td>6</td>\n",
       "      <td>6</td>\n",
       "      <td>12</td>\n",
       "      <td>15</td>\n",
       "      <td>11</td>\n",
       "      <td>14</td>\n",
       "      <td>0</td>\n",
       "    </tr>\n",
       "    <tr>\n",
       "      <th>4</th>\n",
       "      <td>10</td>\n",
       "      <td>15</td>\n",
       "      <td>15</td>\n",
       "      <td>6</td>\n",
       "      <td>11</td>\n",
       "      <td>7</td>\n",
       "      <td>6</td>\n",
       "      <td>5</td>\n",
       "      <td>11</td>\n",
       "      <td>13</td>\n",
       "      <td>10</td>\n",
       "      <td>15</td>\n",
       "      <td>15</td>\n",
       "      <td>11</td>\n",
       "      <td>10</td>\n",
       "      <td>15</td>\n",
       "      <td>11</td>\n",
       "      <td>11</td>\n",
       "      <td>15</td>\n",
       "      <td>0</td>\n",
       "    </tr>\n",
       "  </tbody>\n",
       "</table>\n",
       "</div>"
      ],
      "text/plain": [
       "   behavior_sexualRisk  behavior_eating  behavior_personalHygine  \\\n",
       "0                   10               15                       15   \n",
       "1                   10               11                       14   \n",
       "2                   10               15                       14   \n",
       "3                   10               14                       11   \n",
       "4                   10               15                       15   \n",
       "\n",
       "   intention_aggregation  intention_commitment  attitude_consistency  \\\n",
       "0                     10                    15                     9   \n",
       "1                     10                    15                    10   \n",
       "2                     10                    11                    10   \n",
       "3                     10                    15                     9   \n",
       "4                      6                    11                     7   \n",
       "\n",
       "   attitude_spontaneity  norm_significantPerson  norm_fulfillment  \\\n",
       "0                    10                       5                11   \n",
       "1                    10                       5                15   \n",
       "2                     8                       5                11   \n",
       "3                    10                       5                15   \n",
       "4                     6                       5                11   \n",
       "\n",
       "   perception_vulnerability  perception_severity  motivation_strength  \\\n",
       "0                        15                   10                   15   \n",
       "1                        14                   10                   15   \n",
       "2                        15                   10                   15   \n",
       "3                        15                   10                   15   \n",
       "4                        13                   10                   15   \n",
       "\n",
       "   motivation_willingness  socialSupport_emotionality  \\\n",
       "0                      15                          15   \n",
       "1                       9                           9   \n",
       "2                      15                          15   \n",
       "3                      13                           6   \n",
       "4                      15                          11   \n",
       "\n",
       "   socialSupport_appreciation  socialSupport_instrumental  \\\n",
       "0                          10                          15   \n",
       "1                           4                           3   \n",
       "2                          10                          15   \n",
       "3                           6                          12   \n",
       "4                          10                          15   \n",
       "\n",
       "   empowerment_knowledge  empowerment_abilities  empowerment_desires  \\\n",
       "0                     15                     15                   15   \n",
       "1                     14                     11                   15   \n",
       "2                     15                     15                   15   \n",
       "3                     15                     11                   14   \n",
       "4                     11                     11                   15   \n",
       "\n",
       "   ca_cervix  \n",
       "0          0  \n",
       "1          0  \n",
       "2          0  \n",
       "3          0  \n",
       "4          0  "
      ]
     },
     "execution_count": 4,
     "metadata": {},
     "output_type": "execute_result"
    }
   ],
   "source": [
    "train_df.head()"
   ]
  },
  {
   "cell_type": "code",
   "execution_count": 5,
   "id": "34f7d068-9d54-4115-a295-eca45e824968",
   "metadata": {},
   "outputs": [
    {
     "data": {
      "text/plain": [
       "(58, 20)"
      ]
     },
     "execution_count": 5,
     "metadata": {},
     "output_type": "execute_result"
    }
   ],
   "source": [
    "train_df.shape"
   ]
  },
  {
   "cell_type": "markdown",
   "id": "cbb76f23-9566-44c2-9a3e-ba8b16ab4e39",
   "metadata": {},
   "source": [
    "# Algoritmo"
   ]
  },
  {
   "cell_type": "code",
   "execution_count": 6,
   "id": "8e7494b9-722a-41da-a525-a93f5380b60e",
   "metadata": {},
   "outputs": [],
   "source": [
    "ejemplos :pd.DataFrame = train_df\n",
    "atributos : list = train_df.columns"
   ]
  },
  {
   "cell_type": "code",
   "execution_count": 7,
   "id": "9a318682-fc8b-423d-89bd-8f6e84b310c6",
   "metadata": {},
   "outputs": [],
   "source": [
    "def calc_total_entropy(train_data: pd.DataFrame, label: str, class_list: list)-> float:\n",
    "    # train_data the entire dataset\n",
    "    # label the name of the class column\n",
    "    # class_list list of values that takes label\n",
    "    total_row = train_data.shape[0]\n",
    "    total_entropy = 0\n",
    "\n",
    "    for c in class_list:\n",
    "        total_class_count = train_data(train_data[label] == c).shape[0] #number of the class\n",
    "        total_class_entropy = -(total_class_count/total_row)*np.log2(total_class_count/total_row) # entropy of entire class\n",
    "        total_entropy += total_class_entropy\n",
    "    return total_entropy"
   ]
  },
  {
   "cell_type": "code",
   "execution_count": 8,
   "id": "540cfe84-c8f7-445f-a738-facc53826670",
   "metadata": {},
   "outputs": [],
   "source": [
    "def calc_entropy(feature_value_data: pd.DataFrame, label, class_list: list)-> float:\n",
    "    # feature has the especific value of a feature (column)\n",
    "    # label the name of the class\n",
    "    # class_list different values that takes the class\n",
    "    class_count = feature_value_data.shape[0]\n",
    "    entropy = 0\n",
    "    for c in class_list:\n",
    "        label_class_count = feature_value_data[feature_value_data[label] == c].shape[0]\n",
    "        entropy_class = 0\n",
    "        if label_class_count != 0:\n",
    "            probability_class = label_class_count/class_count\n",
    "            entropy_class = - probability_class*np.log2(probability_class)\n",
    "        entropy += entropy_class\n",
    "    return entropy"
   ]
  },
  {
   "cell_type": "code",
   "execution_count": 9,
   "id": "3f5cf1e4-a487-4ecb-a8d9-38f8c615c526",
   "metadata": {},
   "outputs": [],
   "source": [
    "def calc_info_gain(feature_name, train_data, label, class_list):\n",
    "    feature_value_list = train_data[feature_name].unique() # unique values of the feature\n",
    "    total_row = train_data.shape[0]\n",
    "    feature_info = 0.0\n",
    "\n",
    "    for feature_value in feature_value_list:\n",
    "        feature_value_data = train_data[ train_data[feature_name] == feature_value ]\n",
    "        feature_value_count = feature_value_data.shape[0]\n",
    "        feature_value_entropy = calc_entropy(feature_value_data, label, class_list)\n",
    "        feature_value_probability = feature_value_count/total_row\n",
    "        feature_info += feature_value_probability*feature_value_entropy # diapo 31\n",
    "\n",
    "    return calc_total_entropy(train_data, label, class_list) - feature_info    # diapo 42"
   ]
  },
  {
   "cell_type": "code",
   "execution_count": 16,
   "id": "247f3c3d-2230-4bf0-ac6f-46e547079022",
   "metadata": {},
   "outputs": [],
   "source": [
    "def find_most_informative_feature(train_data, label, class_list):\n",
    "    features_list = train_data.columns.drop(label)\n",
    "    max_info_gain = -1\n",
    "    max_info_feature = None\n",
    "\n",
    "    for feature in features_list:\n",
    "        feature_info_gain = calc_info_gain(feature, train_data, label, class_list)\n",
    "        if max_info_gain < feature_info_gain:\n",
    "            max_info_gain = feature_info_gain\n",
    "            max_info_feature = feature\n",
    "            \n",
    "    return max_info_feature"
   ]
  },
  {
   "cell_type": "code",
   "execution_count": 11,
   "id": "3110ff65-6bb8-4436-bdd3-ea3f52f7c15d",
   "metadata": {},
   "outputs": [],
   "source": [
    "def generate_sub_tree(feature_name, train_data, label, class_list):\n",
    "    feature_value_count_dict = train_data[feature_name].value_counts(sort=False) #dictionary of the count of unique feature value\n",
    "    tree = {} #sub tree or node\n",
    "    \n",
    "    for feature_value, count in feature_value_count_dict.iteritems():\n",
    "        feature_value_data = train_data[train_data[feature_name] == feature_value] #dataset with only feature_name = feature_value\n",
    "        \n",
    "        assigned_to_node = False #flag for tracking feature_value is pure class or not\n",
    "        for c in class_list: #for each class\n",
    "            class_count = feature_value_data[feature_value_data[label] == c].shape[0] #count of class c\n",
    "\n",
    "            if class_count == count: #count of (feature_value = count) of class (pure class)\n",
    "                tree[feature_value] = c #adding node to the tree\n",
    "                train_data = train_data[train_data[feature_name] != feature_value] #removing rows with feature_value\n",
    "                assigned_to_node = True\n",
    "        if not assigned_to_node: #not pure class\n",
    "            tree[feature_value] = \"?\" #as feature_value is not a pure class, it should be expanded further, \n",
    "                                      #so the branch is marking with ?\n",
    "            \n",
    "    return tree, train_data"
   ]
  },
  {
   "cell_type": "code",
   "execution_count": 12,
   "id": "178e7675-4c6f-4748-b359-367eb34149ec",
   "metadata": {},
   "outputs": [],
   "source": [
    "def make_tree(root, prev_feature_value, train_data, label, class_list):\n",
    "    if train_data.shape[0] != 0: #if dataset becomes enpty after updating\n",
    "        max_info_feature = find_most_informative_feature(train_data, label, class_list) #most informative feature\n",
    "        tree, train_data = generate_sub_tree(max_info_feature, train_data, label, class_list) #getting tree node and updated dataset\n",
    "        next_root = None\n",
    "        \n",
    "        if prev_feature_value != None: #add to intermediate node of the tree\n",
    "            root[prev_feature_value] = dict()\n",
    "            root[prev_feature_value][max_info_feature] = tree\n",
    "            next_root = root[prev_feature_value][max_info_feature]\n",
    "        else: #add to root of the tree\n",
    "            root[max_info_feature] = tree\n",
    "            next_root = root[max_info_feature]\n",
    "        \n",
    "        for node, branch in list(next_root.items()): #iterating the tree node\n",
    "            if branch == \"?\": #if it is expandable\n",
    "                feature_value_data = train_data[train_data[max_info_feature] == node] #using the updated dataset\n",
    "                make_tree(next_root, node, feature_value_data, label, class_list) #recursive call with updated datasetj"
   ]
  },
  {
   "cell_type": "code",
   "execution_count": 13,
   "id": "e6004015-d5a6-46c8-8277-ffca672c8b80",
   "metadata": {},
   "outputs": [],
   "source": [
    "def id3(train_data_m, label):\n",
    "    train_data = train_data_m.copy() #getting a copy of the dataset\n",
    "    tree = {} #tree which will be updated\n",
    "    class_list = train_data[label].unique() #getting unqiue classes of the label\n",
    "    make_tree(tree, None, train_data, label, class_list) #start calling recursion\n",
    "    return tree"
   ]
  },
  {
   "cell_type": "code",
   "execution_count": 14,
   "id": "f00da247-e2bc-4094-b752-628828951a43",
   "metadata": {},
   "outputs": [
    {
     "data": {
      "text/plain": [
       "'ca_cervix'"
      ]
     },
     "execution_count": 14,
     "metadata": {},
     "output_type": "execute_result"
    }
   ],
   "source": [
    "train_df.columns[-1]"
   ]
  },
  {
   "cell_type": "code",
   "execution_count": 17,
   "id": "ccc8dcbf-2ee7-4841-831d-c81f8f9662de",
   "metadata": {},
   "outputs": [
    {
     "ename": "TypeError",
     "evalue": "'DataFrame' object is not callable",
     "output_type": "error",
     "traceback": [
      "\u001b[0;31m---------------------------------------------------------------------------\u001b[0m",
      "\u001b[0;31mTypeError\u001b[0m                                 Traceback (most recent call last)",
      "Cell \u001b[0;32mIn[17], line 1\u001b[0m\n\u001b[0;32m----> 1\u001b[0m tree \u001b[38;5;241m=\u001b[39m \u001b[43mid3\u001b[49m\u001b[43m(\u001b[49m\u001b[43mtrain_df\u001b[49m\u001b[43m,\u001b[49m\u001b[43m \u001b[49m\u001b[38;5;124;43m'\u001b[39;49m\u001b[38;5;124;43mca_cervix\u001b[39;49m\u001b[38;5;124;43m'\u001b[39;49m\u001b[43m)\u001b[49m\n",
      "Cell \u001b[0;32mIn[13], line 5\u001b[0m, in \u001b[0;36mid3\u001b[0;34m(train_data_m, label)\u001b[0m\n\u001b[1;32m      3\u001b[0m tree \u001b[38;5;241m=\u001b[39m {} \u001b[38;5;66;03m#tree which will be updated\u001b[39;00m\n\u001b[1;32m      4\u001b[0m class_list \u001b[38;5;241m=\u001b[39m train_data[label]\u001b[38;5;241m.\u001b[39munique() \u001b[38;5;66;03m#getting unqiue classes of the label\u001b[39;00m\n\u001b[0;32m----> 5\u001b[0m \u001b[43mmake_tree\u001b[49m\u001b[43m(\u001b[49m\u001b[43mtree\u001b[49m\u001b[43m,\u001b[49m\u001b[43m \u001b[49m\u001b[38;5;28;43;01mNone\u001b[39;49;00m\u001b[43m,\u001b[49m\u001b[43m \u001b[49m\u001b[43mtrain_data\u001b[49m\u001b[43m,\u001b[49m\u001b[43m \u001b[49m\u001b[43mlabel\u001b[49m\u001b[43m,\u001b[49m\u001b[43m \u001b[49m\u001b[43mclass_list\u001b[49m\u001b[43m)\u001b[49m \u001b[38;5;66;03m#start calling recursion\u001b[39;00m\n\u001b[1;32m      6\u001b[0m \u001b[38;5;28;01mreturn\u001b[39;00m tree\n",
      "Cell \u001b[0;32mIn[12], line 3\u001b[0m, in \u001b[0;36mmake_tree\u001b[0;34m(root, prev_feature_value, train_data, label, class_list)\u001b[0m\n\u001b[1;32m      1\u001b[0m \u001b[38;5;28;01mdef\u001b[39;00m \u001b[38;5;21mmake_tree\u001b[39m(root, prev_feature_value, train_data, label, class_list):\n\u001b[1;32m      2\u001b[0m     \u001b[38;5;28;01mif\u001b[39;00m train_data\u001b[38;5;241m.\u001b[39mshape[\u001b[38;5;241m0\u001b[39m] \u001b[38;5;241m!=\u001b[39m \u001b[38;5;241m0\u001b[39m: \u001b[38;5;66;03m#if dataset becomes enpty after updating\u001b[39;00m\n\u001b[0;32m----> 3\u001b[0m         max_info_feature \u001b[38;5;241m=\u001b[39m \u001b[43mfind_most_informative_feature\u001b[49m\u001b[43m(\u001b[49m\u001b[43mtrain_data\u001b[49m\u001b[43m,\u001b[49m\u001b[43m \u001b[49m\u001b[43mlabel\u001b[49m\u001b[43m,\u001b[49m\u001b[43m \u001b[49m\u001b[43mclass_list\u001b[49m\u001b[43m)\u001b[49m \u001b[38;5;66;03m#most informative feature\u001b[39;00m\n\u001b[1;32m      4\u001b[0m         tree, train_data \u001b[38;5;241m=\u001b[39m generate_sub_tree(max_info_feature, train_data, label, class_list) \u001b[38;5;66;03m#getting tree node and updated dataset\u001b[39;00m\n\u001b[1;32m      5\u001b[0m         next_root \u001b[38;5;241m=\u001b[39m \u001b[38;5;28;01mNone\u001b[39;00m\n",
      "Cell \u001b[0;32mIn[16], line 7\u001b[0m, in \u001b[0;36mfind_most_informative_feature\u001b[0;34m(train_data, label, class_list)\u001b[0m\n\u001b[1;32m      4\u001b[0m max_info_feature \u001b[38;5;241m=\u001b[39m \u001b[38;5;28;01mNone\u001b[39;00m\n\u001b[1;32m      6\u001b[0m \u001b[38;5;28;01mfor\u001b[39;00m feature \u001b[38;5;129;01min\u001b[39;00m features_list:\n\u001b[0;32m----> 7\u001b[0m     feature_info_gain \u001b[38;5;241m=\u001b[39m \u001b[43mcalc_info_gain\u001b[49m\u001b[43m(\u001b[49m\u001b[43mfeature\u001b[49m\u001b[43m,\u001b[49m\u001b[43m \u001b[49m\u001b[43mtrain_data\u001b[49m\u001b[43m,\u001b[49m\u001b[43m \u001b[49m\u001b[43mlabel\u001b[49m\u001b[43m,\u001b[49m\u001b[43m \u001b[49m\u001b[43mclass_list\u001b[49m\u001b[43m)\u001b[49m\n\u001b[1;32m      8\u001b[0m     \u001b[38;5;28;01mif\u001b[39;00m max_info_gain \u001b[38;5;241m<\u001b[39m feature_info_gain:\n\u001b[1;32m      9\u001b[0m         max_info_gain \u001b[38;5;241m=\u001b[39m feature_info_gain\n",
      "Cell \u001b[0;32mIn[9], line 13\u001b[0m, in \u001b[0;36mcalc_info_gain\u001b[0;34m(feature_name, train_data, label, class_list)\u001b[0m\n\u001b[1;32m     10\u001b[0m     feature_value_probability \u001b[38;5;241m=\u001b[39m feature_value_count\u001b[38;5;241m/\u001b[39mtotal_row\n\u001b[1;32m     11\u001b[0m     feature_info \u001b[38;5;241m+\u001b[39m\u001b[38;5;241m=\u001b[39m feature_value_probability\u001b[38;5;241m*\u001b[39mfeature_value_entropy \u001b[38;5;66;03m# diapo 31\u001b[39;00m\n\u001b[0;32m---> 13\u001b[0m \u001b[38;5;28;01mreturn\u001b[39;00m \u001b[43mcalc_total_entropy\u001b[49m\u001b[43m(\u001b[49m\u001b[43mtrain_data\u001b[49m\u001b[43m,\u001b[49m\u001b[43m \u001b[49m\u001b[43mlabel\u001b[49m\u001b[43m,\u001b[49m\u001b[43m \u001b[49m\u001b[43mclass_list\u001b[49m\u001b[43m)\u001b[49m \u001b[38;5;241m-\u001b[39m feature_info\n",
      "Cell \u001b[0;32mIn[7], line 9\u001b[0m, in \u001b[0;36mcalc_total_entropy\u001b[0;34m(train_data, label, class_list)\u001b[0m\n\u001b[1;32m      6\u001b[0m total_entropy \u001b[38;5;241m=\u001b[39m \u001b[38;5;241m0\u001b[39m\n\u001b[1;32m      8\u001b[0m \u001b[38;5;28;01mfor\u001b[39;00m c \u001b[38;5;129;01min\u001b[39;00m class_list:\n\u001b[0;32m----> 9\u001b[0m     total_class_count \u001b[38;5;241m=\u001b[39m \u001b[43mtrain_data\u001b[49m\u001b[43m(\u001b[49m\u001b[43mtrain_data\u001b[49m\u001b[43m[\u001b[49m\u001b[43mlabel\u001b[49m\u001b[43m]\u001b[49m\u001b[43m \u001b[49m\u001b[38;5;241;43m==\u001b[39;49m\u001b[43m \u001b[49m\u001b[43mc\u001b[49m\u001b[43m)\u001b[49m\u001b[38;5;241m.\u001b[39mshape[\u001b[38;5;241m0\u001b[39m] \u001b[38;5;66;03m#number of the class\u001b[39;00m\n\u001b[1;32m     10\u001b[0m     total_class_entropy \u001b[38;5;241m=\u001b[39m \u001b[38;5;241m-\u001b[39m(total_class_count\u001b[38;5;241m/\u001b[39mtotal_row)\u001b[38;5;241m*\u001b[39mnp\u001b[38;5;241m.\u001b[39mlog2(total_class_count\u001b[38;5;241m/\u001b[39mtotal_row) \u001b[38;5;66;03m# entropy of entire class\u001b[39;00m\n\u001b[1;32m     11\u001b[0m     total_entropy \u001b[38;5;241m+\u001b[39m\u001b[38;5;241m=\u001b[39m total_class_entropy\n",
      "\u001b[0;31mTypeError\u001b[0m: 'DataFrame' object is not callable"
     ]
    }
   ],
   "source": [
    "tree = id3(train_df, 'ca_cervix')"
   ]
  },
  {
   "cell_type": "code",
   "execution_count": null,
   "id": "e63f6ed7-9d4a-4c5d-987c-3cd05417da85",
   "metadata": {},
   "outputs": [],
   "source": []
  }
 ],
 "metadata": {
  "kernelspec": {
   "display_name": "decisiontree_2",
   "language": "python",
   "name": "decisiontree_2"
  },
  "language_info": {
   "codemirror_mode": {
    "name": "ipython",
    "version": 3
   },
   "file_extension": ".py",
   "mimetype": "text/x-python",
   "name": "python",
   "nbconvert_exporter": "python",
   "pygments_lexer": "ipython3",
   "version": "3.11.6"
  }
 },
 "nbformat": 4,
 "nbformat_minor": 5
}
