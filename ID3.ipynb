{
  "cells": [
    {
      "cell_type": "markdown",
      "metadata": {
        "colab_type": "text",
        "id": "view-in-github"
      },
      "source": [
        "<a href=\"https://colab.research.google.com/github/3rickDJ/decision-tree/blob/main/ID3.ipynb\" target=\"_parent\"><img src=\"https://colab.research.google.com/assets/colab-badge.svg\" alt=\"Open In Colab\"/></a>"
      ]
    },
    {
      "cell_type": "code",
      "execution_count": 1,
      "id": "0ad9b740-527a-4b2a-a707-75630532c363",
      "metadata": {
        "id": "0ad9b740-527a-4b2a-a707-75630532c363"
      },
      "outputs": [],
      "source": [
        "import pandas as pd #for manipulating the csv data\n",
        "import numpy as np #for mathematical calculation"
      ]
    },
    {
      "cell_type": "code",
      "execution_count": 2,
      "id": "9889b5d6-01af-4d42-b4f1-0f7c9c34f13d",
      "metadata": {
        "id": "9889b5d6-01af-4d42-b4f1-0f7c9c34f13d"
      },
      "outputs": [],
      "source": [
        "import logging"
      ]
    },
    {
      "cell_type": "code",
      "execution_count": 3,
      "id": "1e0d3d82-12b5-4d0f-b5fd-c4649de86a1e",
      "metadata": {
        "id": "1e0d3d82-12b5-4d0f-b5fd-c4649de86a1e"
      },
      "outputs": [],
      "source": [
        "logging.basicConfig(filename='id3_log.log', level=logging.DEBUG )"
      ]
    },
    {
      "cell_type": "code",
      "execution_count": 4,
      "id": "39a3cd80-7329-477a-b961-660827389152",
      "metadata": {
        "id": "39a3cd80-7329-477a-b961-660827389152"
      },
      "outputs": [],
      "source": [
        "def calc_total_entropy(train_data, label, class_list):\n",
        "    total_row = train_data.shape[0] #the total size of the dataset\n",
        "    total_entr = 0\n",
        "\n",
        "    for c in class_list: #for each class in the label\n",
        "        total_class_count = train_data[train_data[label] == c].shape[0] #number of the class\n",
        "        total_class_entr = - (total_class_count/total_row)*np.log2(total_class_count/total_row) #entropy of the class\n",
        "        total_entr += total_class_entr #adding the class entropy to the total entropy of the dataset\n",
        "    \n",
        "    logging.critical(f\"{total_entr=}\")\n",
        "\n",
        "    return total_entr"
      ]
    },
    {
      "cell_type": "code",
      "execution_count": 5,
      "id": "4d18927a-a9f7-4a4a-ba85-11db2dcc1b07",
      "metadata": {
        "id": "4d18927a-a9f7-4a4a-ba85-11db2dcc1b07"
      },
      "outputs": [],
      "source": [
        "def calc_entropy(feature_value_data, label, class_list):\n",
        "    class_count = feature_value_data.shape[0]\n",
        "    entropy = 0\n",
        "\n",
        "    for c in class_list:\n",
        "        label_class_count = feature_value_data[feature_value_data[label] == c].shape[0] #row count of class c\n",
        "        entropy_class = 0\n",
        "        if label_class_count != 0:\n",
        "            probability_class = label_class_count/class_count #probability of the class\n",
        "            entropy_class = - probability_class * np.log2(probability_class)  #entropy\n",
        "        entropy += entropy_class\n",
        "    return entropy"
      ]
    },
    {
      "cell_type": "code",
      "execution_count": 6,
      "id": "102f2c80-c3c9-43c0-a8aa-9629856504b7",
      "metadata": {
        "id": "102f2c80-c3c9-43c0-a8aa-9629856504b7"
      },
      "outputs": [],
      "source": [
        "def calc_info_gain(feature_name, train_data, label, class_list):\n",
        "    feature_value_list = train_data[feature_name].unique() #unqiue values of the feature\n",
        "    total_row = train_data.shape[0]\n",
        "    feature_info = 0.0\n",
        "\n",
        "    for feature_value in feature_value_list:\n",
        "        feature_value_data = train_data[train_data[feature_name] == feature_value] #filtering rows with that feature_value\n",
        "        feature_value_count = feature_value_data.shape[0]\n",
        "        feature_value_entropy = calc_entropy(feature_value_data, label, class_list) #calculcating entropy for the feature value\n",
        "        feature_value_probability = feature_value_count/total_row\n",
        "        feature_info += feature_value_probability * feature_value_entropy #calculating information of the feature value\n",
        "    \n",
        "    logging.critical(f\"{feature_name=} ====> {feature_info=}\")\n",
        "\n",
        "    return calc_total_entropy(train_data, label, class_list) - feature_info #calculating information gain by subtracting"
      ]
    },
    {
      "cell_type": "code",
      "execution_count": 7,
      "id": "fa8d91a0-5700-4cca-9240-5b742c5d6f34",
      "metadata": {
        "id": "fa8d91a0-5700-4cca-9240-5b742c5d6f34"
      },
      "outputs": [],
      "source": [
        "def find_most_informative_feature(train_data, label, class_list):\n",
        "    feature_list = train_data.columns.drop(label) #finding the feature names in the dataset\n",
        "                                            #N.B. label is not a feature, so dropping it\n",
        "    max_info_gain = -1\n",
        "    max_info_feature = None\n",
        "\n",
        "    for feature in feature_list:  #for each feature in the dataset\n",
        "        feature_info_gain = calc_info_gain(feature, train_data, label, class_list)\n",
        "        logging.critical(f\"{feature=} ==> {feature_info_gain=}\")\n",
        "        if max_info_gain < feature_info_gain: #selecting feature name with highest information gain\n",
        "            max_info_gain = feature_info_gain\n",
        "            max_info_feature = feature\n",
        "\n",
        "    return max_info_feature"
      ]
    },
    {
      "cell_type": "code",
      "execution_count": 8,
      "id": "8a9979ee-5e30-4884-8c64-e5cf66d7bbe5",
      "metadata": {
        "id": "8a9979ee-5e30-4884-8c64-e5cf66d7bbe5"
      },
      "outputs": [],
      "source": [
        "def generate_sub_tree(feature_name, train_data, label, class_list):\n",
        "    feature_value_count_dict = train_data[feature_name].value_counts(sort=False) #dictionary of the count of unqiue feature value\n",
        "    tree = {} #sub tree or node\n",
        "\n",
        "    for feature_value, count in feature_value_count_dict.items():\n",
        "        feature_value_data = train_data[train_data[feature_name] == feature_value] #dataset with only feature_name = feature_value\n",
        "\n",
        "        assigned_to_node = False #flag for tracking feature_value is pure class or not\n",
        "        for c in class_list: #for each class\n",
        "            class_count = feature_value_data[feature_value_data[label] == c].shape[0] #count of class c\n",
        "\n",
        "            if class_count == count: #count of (feature_value = count) of class (pure class)\n",
        "                tree[feature_value] = c #adding node to the tree\n",
        "                train_data = train_data[train_data[feature_name] != feature_value] #removing rows with feature_value\n",
        "                assigned_to_node = True\n",
        "        if not assigned_to_node: #not pure class\n",
        "            tree[feature_value] = \"?\" #as feature_value is not a pure class, it should be expanded further,\n",
        "                                      #so the branch is marking with ?\n",
        "\n",
        "    return tree, train_data"
      ]
    },
    {
      "cell_type": "code",
      "execution_count": 9,
      "id": "70d018ab-1777-4acc-8971-2131abfa3fce",
      "metadata": {
        "id": "70d018ab-1777-4acc-8971-2131abfa3fce"
      },
      "outputs": [],
      "source": [
        "def make_tree(root, prev_feature_value, train_data, label, class_list):\n",
        "    if train_data.shape[0] != 0: #if dataset becomes enpty after updating\n",
        "        logging.info(f\"{root=}\")\n",
        "        logging.info(f\"{prev_feature_value=}\")\n",
        "        logging.info(f\"Train_data\\n{train_data}\")\n",
        "        max_info_feature = find_most_informative_feature(train_data, label, class_list) #most informative feature\n",
        "        logging.debug(f\"{max_info_feature=}\")\n",
        "        tree, train_data = generate_sub_tree(max_info_feature, train_data, label, class_list) #getting tree node and updated dataset\n",
        "        logging.debug(f\"subtree ={tree}\")\n",
        "        logging.debug(f\"New {train_data=}\")\n",
        "        next_root = None\n",
        "        logging.warning(f\"{next_root=}\")\n",
        "\n",
        "        if prev_feature_value != None: #add to intermediate node of the tree\n",
        "            root[prev_feature_value] = dict()\n",
        "            root[prev_feature_value][max_info_feature] = tree\n",
        "            next_root = root[prev_feature_value][max_info_feature]\n",
        "        else: #add to root of the tree\n",
        "            root[max_info_feature] = tree\n",
        "            next_root = root[max_info_feature]\n",
        "\n",
        "        for node, branch in list(next_root.items()): #iterating the tree node\n",
        "            if branch == \"?\": #if it is expandable\n",
        "                feature_value_data = train_data[train_data[max_info_feature] == node] #using the updated dataset\n",
        "                make_tree(next_root, node, feature_value_data, label, class_list) #recursive call with upda"
      ]
    },
    {
      "cell_type": "code",
      "execution_count": 10,
      "id": "70176f95",
      "metadata": {},
      "outputs": [],
      "source": [
        "def str_np_json(json_dic):\n",
        "    import json\n",
        "    class NpEncoder(json.JSONEncoder):\n",
        "        def default(self, obj):\n",
        "            if isinstance(obj, np.integer):\n",
        "                return int(obj)\n",
        "            if isinstance(obj, np.floating):\n",
        "                return float(obj)\n",
        "            if isinstance(obj, np.ndarray):\n",
        "                return obj.tolist()\n",
        "            return super(NpEncoder, self).default(obj)\n",
        "    return json.dumps(json_dic, indent=4, cls=NpEncoder)\n"
      ]
    },
    {
      "cell_type": "code",
      "execution_count": 11,
      "id": "405ec2ed-f893-4f3a-aa32-257dd98f90c2",
      "metadata": {
        "id": "405ec2ed-f893-4f3a-aa32-257dd98f90c2"
      },
      "outputs": [],
      "source": [
        "def id3(train_data_m, label):\n",
        "    train_data = train_data_m.copy() #getting a copy of the dataset\n",
        "    tree = {} #tree which will be updated\n",
        "    class_list = train_data[label].unique() #getting unqiue classes of the label\n",
        "    make_tree(tree, None, train_data, label, class_list) #start calling recursion\n",
        "    logging.error(f\"FINAL_TREE = \\n{str_np_json(tree)}\")\n",
        "    return tree"
      ]
    },
    {
      "cell_type": "code",
      "execution_count": 12,
      "id": "bbf627bd-13a3-4932-9d97-bd7eadd05453",
      "metadata": {
        "colab": {
          "base_uri": "https://localhost:8080/",
          "height": 206
        },
        "id": "bbf627bd-13a3-4932-9d97-bd7eadd05453",
        "outputId": "7b583ef3-c40e-47ba-ade9-56358775f790"
      },
      "outputs": [
        {
          "data": {
            "text/html": [
              "<div>\n",
              "<style scoped>\n",
              "    .dataframe tbody tr th:only-of-type {\n",
              "        vertical-align: middle;\n",
              "    }\n",
              "\n",
              "    .dataframe tbody tr th {\n",
              "        vertical-align: top;\n",
              "    }\n",
              "\n",
              "    .dataframe thead th {\n",
              "        text-align: right;\n",
              "    }\n",
              "</style>\n",
              "<table border=\"1\" class=\"dataframe\">\n",
              "  <thead>\n",
              "    <tr style=\"text-align: right;\">\n",
              "      <th></th>\n",
              "      <th>Outlook</th>\n",
              "      <th>Temperature</th>\n",
              "      <th>Humidity</th>\n",
              "      <th>Wind</th>\n",
              "      <th>Play Tennis</th>\n",
              "    </tr>\n",
              "  </thead>\n",
              "  <tbody>\n",
              "    <tr>\n",
              "      <th>0</th>\n",
              "      <td>Sunny</td>\n",
              "      <td>Hot</td>\n",
              "      <td>High</td>\n",
              "      <td>Weak</td>\n",
              "      <td>No</td>\n",
              "    </tr>\n",
              "    <tr>\n",
              "      <th>1</th>\n",
              "      <td>Sunny</td>\n",
              "      <td>Hot</td>\n",
              "      <td>High</td>\n",
              "      <td>Strong</td>\n",
              "      <td>No</td>\n",
              "    </tr>\n",
              "    <tr>\n",
              "      <th>2</th>\n",
              "      <td>Overcast</td>\n",
              "      <td>Hot</td>\n",
              "      <td>High</td>\n",
              "      <td>Weak</td>\n",
              "      <td>Yes</td>\n",
              "    </tr>\n",
              "    <tr>\n",
              "      <th>3</th>\n",
              "      <td>Rain</td>\n",
              "      <td>Mild</td>\n",
              "      <td>High</td>\n",
              "      <td>Weak</td>\n",
              "      <td>Yes</td>\n",
              "    </tr>\n",
              "    <tr>\n",
              "      <th>4</th>\n",
              "      <td>Rain</td>\n",
              "      <td>Cool</td>\n",
              "      <td>Normal</td>\n",
              "      <td>Weak</td>\n",
              "      <td>Yes</td>\n",
              "    </tr>\n",
              "  </tbody>\n",
              "</table>\n",
              "</div>"
            ],
            "text/plain": [
              "    Outlook Temperature Humidity    Wind Play Tennis\n",
              "0     Sunny         Hot     High    Weak          No\n",
              "1     Sunny         Hot     High  Strong          No\n",
              "2  Overcast         Hot     High    Weak         Yes\n",
              "3      Rain        Mild     High    Weak         Yes\n",
              "4      Rain        Cool   Normal    Weak         Yes"
            ]
          },
          "execution_count": 12,
          "metadata": {},
          "output_type": "execute_result"
        }
      ],
      "source": [
        "train_data_m = pd.read_csv(\"PlayTennis.csv\") #importing the dataset from the disk\n",
        "\n",
        "train_data_m.head() #viewing some row of the dataset"
      ]
    },
    {
      "cell_type": "code",
      "execution_count": 13,
      "id": "vqmndh0shUMg",
      "metadata": {
        "colab": {
          "base_uri": "https://localhost:8080/"
        },
        "id": "vqmndh0shUMg",
        "outputId": "0a8e78c9-e02d-4ff3-ded0-b1c023cd342a"
      },
      "outputs": [
        {
          "name": "stdout",
          "output_type": "stream",
          "text": [
            "Outlook        object\n",
            "Temperature    object\n",
            "Humidity       object\n",
            "Wind           object\n",
            "Play Tennis    object\n",
            "dtype: object\n"
          ]
        },
        {
          "data": {
            "text/plain": [
              "0      No\n",
              "1      No\n",
              "2     Yes\n",
              "3     Yes\n",
              "4     Yes\n",
              "5      No\n",
              "6     Yes\n",
              "7      No\n",
              "8     Yes\n",
              "9     Yes\n",
              "10    Yes\n",
              "11    Yes\n",
              "12    Yes\n",
              "13     No\n",
              "Name: Play Tennis, dtype: object"
            ]
          },
          "execution_count": 13,
          "metadata": {},
          "output_type": "execute_result"
        }
      ],
      "source": [
        "print(train_data_m.dtypes)\n",
        "train_data_m['Play Tennis']"
      ]
    },
    {
      "cell_type": "code",
      "execution_count": 14,
      "id": "f9b28654-7332-473f-aa92-0d821fdfda79",
      "metadata": {
        "colab": {
          "base_uri": "https://localhost:8080/"
        },
        "id": "f9b28654-7332-473f-aa92-0d821fdfda79",
        "outputId": "bda618b2-edb1-4552-df9e-70160d45e68e"
      },
      "outputs": [],
      "source": [
        "tree = id3(train_data_m, 'Play Tennis')"
      ]
    },
    {
      "cell_type": "code",
      "execution_count": null,
      "id": "bf9018e7",
      "metadata": {},
      "outputs": [],
      "source": []
    },
    {
      "cell_type": "code",
      "execution_count": null,
      "id": "c2ce56d4-7566-4c87-934e-fe69f7f40fe5",
      "metadata": {
        "colab": {
          "base_uri": "https://localhost:8080/"
        },
        "id": "c2ce56d4-7566-4c87-934e-fe69f7f40fe5",
        "outputId": "fd38193a-3671-4fa4-bdad-dc075d3a5dba"
      },
      "outputs": [
        {
          "name": "stdout",
          "output_type": "stream",
          "text": [
            "{'Outlook': {'Sunny': {'Humidity': {'High': 'No', 'Normal': 'Yes'}}, 'Overcast': 'Yes', 'Rain': {'Wind': {'Weak': 'Yes', 'Strong': 'No'}}}}\n"
          ]
        }
      ],
      "source": [
        "print(tree)"
      ]
    },
    {
      "cell_type": "code",
      "execution_count": null,
      "id": "902a620a-fc81-4c45-8dc1-d510de281fa4",
      "metadata": {
        "colab": {
          "base_uri": "https://localhost:8080/"
        },
        "id": "902a620a-fc81-4c45-8dc1-d510de281fa4",
        "outputId": "8d10a8fd-e644-4c33-ca60-a332d51de3db"
      },
      "outputs": [
        {
          "data": {
            "text/plain": [
              "Index(['ca_cervix'], dtype='object')"
            ]
          },
          "execution_count": 122,
          "metadata": {},
          "output_type": "execute_result"
        }
      ],
      "source": [
        "train_data_cancer = pd.read_csv('entrenamiento.csv')\n",
        "train_data_cancer.sample(5).columns[-1:]"
      ]
    },
    {
      "cell_type": "code",
      "execution_count": null,
      "id": "d16e5aa2-9ae8-4769-872d-e81380e57501",
      "metadata": {
        "colab": {
          "base_uri": "https://localhost:8080/"
        },
        "id": "d16e5aa2-9ae8-4769-872d-e81380e57501",
        "outputId": "c28f7a99-92dc-4278-adb4-059c1ed36097"
      },
      "outputs": [],
      "source": [
        "tree_cancer = id3(train_data_cancer, 'ca_cervix')"
      ]
    },
    {
      "cell_type": "code",
      "execution_count": null,
      "id": "ce1573bf-09bb-4a23-8770-2719915866e0",
      "metadata": {
        "colab": {
          "base_uri": "https://localhost:8080/"
        },
        "id": "ce1573bf-09bb-4a23-8770-2719915866e0",
        "outputId": "bf129973-3c05-45ff-d6e6-6364dfabafc3"
      },
      "outputs": [
        {
          "name": "stdout",
          "output_type": "stream",
          "text": [
            "{'motivation_willingness': {8: 1, 3: {'behavior_eating': {15: 1, 12: 1, 10: 0, 13: 0}}, 5: 1, 13: {'behavior_personalHygine': {4: 1, 13: 0, 11: 0, 9: 0, 15: 0, 14: 0}}, 15: {'behavior_sexualRisk': {9: 1, 10: 0}}, 4: 1, 11: {'intention_commitment': {10: 1, 15: 0, 13: 0, 14: 0}}, 10: 0, 14: 0, 12: 0, 7: 0, 9: 0}}\n"
          ]
        }
      ],
      "source": [
        "print(tree_cancer)"
      ]
    },
    {
      "cell_type": "code",
      "execution_count": null,
      "id": "PFLRf8POsT92",
      "metadata": {
        "id": "PFLRf8POsT92"
      },
      "outputs": [],
      "source": [
        "import json\n",
        "class NpEncoder(json.JSONEncoder):\n",
        "    def default(self, obj):\n",
        "        if isinstance(obj, np.integer):\n",
        "            return int(obj)\n",
        "        if isinstance(obj, np.floating):\n",
        "            return float(obj)\n",
        "        if isinstance(obj, np.ndarray):\n",
        "            return obj.tolist()\n",
        "        return super(NpEncoder, self).default(obj)\n"
      ]
    },
    {
      "cell_type": "code",
      "execution_count": null,
      "id": "4ef47268-fcb9-4bb5-9f54-d5191073d8f5",
      "metadata": {
        "colab": {
          "base_uri": "https://localhost:8080/"
        },
        "id": "4ef47268-fcb9-4bb5-9f54-d5191073d8f5",
        "outputId": "4b1a51a9-568b-4064-c5cf-537c6c8ea388"
      },
      "outputs": [
        {
          "name": "stdout",
          "output_type": "stream",
          "text": [
            "{\n",
            "    \"motivation_willingness\": {\n",
            "        \"8\": 1,\n",
            "        \"3\": {\n",
            "            \"behavior_eating\": {\n",
            "                \"15\": 1,\n",
            "                \"12\": 1,\n",
            "                \"10\": 0,\n",
            "                \"13\": 0\n",
            "            }\n",
            "        },\n",
            "        \"5\": 1,\n",
            "        \"13\": {\n",
            "            \"behavior_personalHygine\": {\n",
            "                \"4\": 1,\n",
            "                \"13\": 0,\n",
            "                \"11\": 0,\n",
            "                \"9\": 0,\n",
            "                \"15\": 0,\n",
            "                \"14\": 0\n",
            "            }\n",
            "        },\n",
            "        \"15\": {\n",
            "            \"behavior_sexualRisk\": {\n",
            "                \"9\": 1,\n",
            "                \"10\": 0\n",
            "            }\n",
            "        },\n",
            "        \"4\": 1,\n",
            "        \"11\": {\n",
            "            \"intention_commitment\": {\n",
            "                \"10\": 1,\n",
            "                \"15\": 0,\n",
            "                \"13\": 0,\n",
            "                \"14\": 0\n",
            "            }\n",
            "        },\n",
            "        \"10\": 0,\n",
            "        \"14\": 0,\n",
            "        \"12\": 0,\n",
            "        \"7\": 0,\n",
            "        \"9\": 0\n",
            "    }\n",
            "}\n"
          ]
        }
      ],
      "source": [
        "import json\n",
        "jason = json.dumps(tree_cancer, indent=4, cls=NpEncoder)\n",
        "print(jason)"
      ]
    },
    {
      "cell_type": "code",
      "execution_count": null,
      "id": "addeb110-92c9-4325-90ba-96caaec4054a",
      "metadata": {
        "id": "addeb110-92c9-4325-90ba-96caaec4054a"
      },
      "outputs": [],
      "source": [
        "with open('ID3_tree.txt', 'w') as f:\n",
        "  f.write(jason)"
      ]
    },
    {
      "cell_type": "code",
      "execution_count": null,
      "id": "SRIv7gNktVep",
      "metadata": {
        "colab": {
          "base_uri": "https://localhost:8080/",
          "height": 226
        },
        "id": "SRIv7gNktVep",
        "outputId": "a61e7f3c-7e8d-4868-af26-606fb6165f63"
      },
      "outputs": [
        {
          "data": {
            "text/html": [
              "<div>\n",
              "<style scoped>\n",
              "    .dataframe tbody tr th:only-of-type {\n",
              "        vertical-align: middle;\n",
              "    }\n",
              "\n",
              "    .dataframe tbody tr th {\n",
              "        vertical-align: top;\n",
              "    }\n",
              "\n",
              "    .dataframe thead th {\n",
              "        text-align: right;\n",
              "    }\n",
              "</style>\n",
              "<table border=\"1\" class=\"dataframe\">\n",
              "  <thead>\n",
              "    <tr style=\"text-align: right;\">\n",
              "      <th></th>\n",
              "      <th>behavior_sexualRisk</th>\n",
              "      <th>behavior_eating</th>\n",
              "      <th>behavior_personalHygine</th>\n",
              "      <th>intention_aggregation</th>\n",
              "      <th>intention_commitment</th>\n",
              "      <th>attitude_consistency</th>\n",
              "      <th>attitude_spontaneity</th>\n",
              "      <th>norm_significantPerson</th>\n",
              "      <th>norm_fulfillment</th>\n",
              "      <th>perception_vulnerability</th>\n",
              "      <th>perception_severity</th>\n",
              "      <th>motivation_strength</th>\n",
              "      <th>motivation_willingness</th>\n",
              "      <th>socialSupport_emotionality</th>\n",
              "      <th>socialSupport_appreciation</th>\n",
              "      <th>socialSupport_instrumental</th>\n",
              "      <th>empowerment_knowledge</th>\n",
              "      <th>empowerment_abilities</th>\n",
              "      <th>empowerment_desires</th>\n",
              "      <th>ca_cervix</th>\n",
              "    </tr>\n",
              "  </thead>\n",
              "  <tbody>\n",
              "    <tr>\n",
              "      <th>0</th>\n",
              "      <td>10</td>\n",
              "      <td>15</td>\n",
              "      <td>15</td>\n",
              "      <td>10</td>\n",
              "      <td>15</td>\n",
              "      <td>9</td>\n",
              "      <td>10</td>\n",
              "      <td>5</td>\n",
              "      <td>11</td>\n",
              "      <td>15</td>\n",
              "      <td>10</td>\n",
              "      <td>15</td>\n",
              "      <td>15</td>\n",
              "      <td>15</td>\n",
              "      <td>10</td>\n",
              "      <td>15</td>\n",
              "      <td>15</td>\n",
              "      <td>15</td>\n",
              "      <td>15</td>\n",
              "      <td>0</td>\n",
              "    </tr>\n",
              "    <tr>\n",
              "      <th>1</th>\n",
              "      <td>10</td>\n",
              "      <td>11</td>\n",
              "      <td>14</td>\n",
              "      <td>10</td>\n",
              "      <td>15</td>\n",
              "      <td>10</td>\n",
              "      <td>10</td>\n",
              "      <td>5</td>\n",
              "      <td>15</td>\n",
              "      <td>14</td>\n",
              "      <td>10</td>\n",
              "      <td>15</td>\n",
              "      <td>9</td>\n",
              "      <td>9</td>\n",
              "      <td>4</td>\n",
              "      <td>3</td>\n",
              "      <td>14</td>\n",
              "      <td>11</td>\n",
              "      <td>15</td>\n",
              "      <td>0</td>\n",
              "    </tr>\n",
              "    <tr>\n",
              "      <th>2</th>\n",
              "      <td>10</td>\n",
              "      <td>15</td>\n",
              "      <td>14</td>\n",
              "      <td>10</td>\n",
              "      <td>11</td>\n",
              "      <td>10</td>\n",
              "      <td>8</td>\n",
              "      <td>5</td>\n",
              "      <td>11</td>\n",
              "      <td>15</td>\n",
              "      <td>10</td>\n",
              "      <td>15</td>\n",
              "      <td>15</td>\n",
              "      <td>15</td>\n",
              "      <td>10</td>\n",
              "      <td>15</td>\n",
              "      <td>15</td>\n",
              "      <td>15</td>\n",
              "      <td>15</td>\n",
              "      <td>0</td>\n",
              "    </tr>\n",
              "    <tr>\n",
              "      <th>3</th>\n",
              "      <td>10</td>\n",
              "      <td>14</td>\n",
              "      <td>11</td>\n",
              "      <td>10</td>\n",
              "      <td>15</td>\n",
              "      <td>9</td>\n",
              "      <td>10</td>\n",
              "      <td>5</td>\n",
              "      <td>15</td>\n",
              "      <td>15</td>\n",
              "      <td>10</td>\n",
              "      <td>15</td>\n",
              "      <td>13</td>\n",
              "      <td>6</td>\n",
              "      <td>6</td>\n",
              "      <td>12</td>\n",
              "      <td>15</td>\n",
              "      <td>11</td>\n",
              "      <td>14</td>\n",
              "      <td>0</td>\n",
              "    </tr>\n",
              "    <tr>\n",
              "      <th>4</th>\n",
              "      <td>10</td>\n",
              "      <td>15</td>\n",
              "      <td>15</td>\n",
              "      <td>6</td>\n",
              "      <td>11</td>\n",
              "      <td>7</td>\n",
              "      <td>6</td>\n",
              "      <td>5</td>\n",
              "      <td>11</td>\n",
              "      <td>13</td>\n",
              "      <td>10</td>\n",
              "      <td>15</td>\n",
              "      <td>15</td>\n",
              "      <td>11</td>\n",
              "      <td>10</td>\n",
              "      <td>15</td>\n",
              "      <td>11</td>\n",
              "      <td>11</td>\n",
              "      <td>15</td>\n",
              "      <td>0</td>\n",
              "    </tr>\n",
              "  </tbody>\n",
              "</table>\n",
              "</div>"
            ],
            "text/plain": [
              "   behavior_sexualRisk  behavior_eating  behavior_personalHygine  \\\n",
              "0                   10               15                       15   \n",
              "1                   10               11                       14   \n",
              "2                   10               15                       14   \n",
              "3                   10               14                       11   \n",
              "4                   10               15                       15   \n",
              "\n",
              "   intention_aggregation  intention_commitment  attitude_consistency  \\\n",
              "0                     10                    15                     9   \n",
              "1                     10                    15                    10   \n",
              "2                     10                    11                    10   \n",
              "3                     10                    15                     9   \n",
              "4                      6                    11                     7   \n",
              "\n",
              "   attitude_spontaneity  norm_significantPerson  norm_fulfillment  \\\n",
              "0                    10                       5                11   \n",
              "1                    10                       5                15   \n",
              "2                     8                       5                11   \n",
              "3                    10                       5                15   \n",
              "4                     6                       5                11   \n",
              "\n",
              "   perception_vulnerability  perception_severity  motivation_strength  \\\n",
              "0                        15                   10                   15   \n",
              "1                        14                   10                   15   \n",
              "2                        15                   10                   15   \n",
              "3                        15                   10                   15   \n",
              "4                        13                   10                   15   \n",
              "\n",
              "   motivation_willingness  socialSupport_emotionality  \\\n",
              "0                      15                          15   \n",
              "1                       9                           9   \n",
              "2                      15                          15   \n",
              "3                      13                           6   \n",
              "4                      15                          11   \n",
              "\n",
              "   socialSupport_appreciation  socialSupport_instrumental  \\\n",
              "0                          10                          15   \n",
              "1                           4                           3   \n",
              "2                          10                          15   \n",
              "3                           6                          12   \n",
              "4                          10                          15   \n",
              "\n",
              "   empowerment_knowledge  empowerment_abilities  empowerment_desires  \\\n",
              "0                     15                     15                   15   \n",
              "1                     14                     11                   15   \n",
              "2                     15                     15                   15   \n",
              "3                     15                     11                   14   \n",
              "4                     11                     11                   15   \n",
              "\n",
              "   ca_cervix  \n",
              "0          0  \n",
              "1          0  \n",
              "2          0  \n",
              "3          0  \n",
              "4          0  "
            ]
          },
          "execution_count": 128,
          "metadata": {},
          "output_type": "execute_result"
        }
      ],
      "source": [
        "data = pd.read_csv('train.csv')\n",
        "data.head()"
      ]
    },
    {
      "cell_type": "code",
      "execution_count": null,
      "id": "zryQaeCssyLa",
      "metadata": {
        "colab": {
          "base_uri": "https://localhost:8080/"
        },
        "id": "zryQaeCssyLa",
        "outputId": "37fdcb86-4b1d-401f-ee4e-96b6455caa42"
      },
      "outputs": [],
      "source": [
        "tree = id3(data, 'ca_cervix')\n",
        "jason = json.dumps(tree, indent=4, cls=NpEncoder)"
      ]
    },
    {
      "cell_type": "code",
      "execution_count": null,
      "id": "yZA2o3EutKpy",
      "metadata": {
        "id": "yZA2o3EutKpy"
      },
      "outputs": [],
      "source": [
        "with open('ID3_tree_own_set.txt', 'w') as f:\n",
        "  f.write(json.dumps(tree, indent=4, cls=NpEncoder))"
      ]
    },
    {
      "cell_type": "code",
      "execution_count": null,
      "id": "Gv_QgFK8twmr",
      "metadata": {
        "colab": {
          "base_uri": "https://localhost:8080/"
        },
        "id": "Gv_QgFK8twmr",
        "outputId": "908a53d7-85ce-4117-89ed-e5af991e10b9"
      },
      "outputs": [
        {
          "name": "stdout",
          "output_type": "stream",
          "text": [
            "{\n",
            "    \"norm_fulfillment\": {\n",
            "        \"11\": 0,\n",
            "        \"15\": 0,\n",
            "        \"14\": 0,\n",
            "        \"13\": 0,\n",
            "        \"3\": {\n",
            "            \"empowerment_knowledge\": {\n",
            "                \"12\": 0,\n",
            "                \"15\": 0,\n",
            "                \"6\": 0,\n",
            "                \"8\": 1,\n",
            "                \"3\": 1,\n",
            "                \"13\": 1,\n",
            "                \"7\": 1\n",
            "            }\n",
            "        },\n",
            "        \"5\": {\n",
            "            \"behavior_eating\": {\n",
            "                \"13\": 0,\n",
            "                \"15\": 0,\n",
            "                \"10\": 0,\n",
            "                \"14\": 0,\n",
            "                \"11\": 1,\n",
            "                \"12\": 1\n",
            "            }\n",
            "        },\n",
            "        \"4\": {\n",
            "            \"behavior_eating\": {\n",
            "                \"12\": 0,\n",
            "                \"11\": 0,\n",
            "                \"15\": 1\n",
            "            }\n",
            "        },\n",
            "        \"7\": {\n",
            "            \"behavior_eating\": {\n",
            "                \"15\": 0,\n",
            "                \"12\": 1\n",
            "            }\n",
            "        },\n",
            "        \"10\": 1,\n",
            "        \"8\": 1,\n",
            "        \"6\": 1,\n",
            "        \"12\": 1\n",
            "    }\n",
            "}\n"
          ]
        }
      ],
      "source": [
        "print(jason)"
      ]
    }
  ],
  "metadata": {
    "colab": {
      "include_colab_link": true,
      "provenance": []
    },
    "kernelspec": {
      "display_name": "Python 3 (ipykernel)",
      "language": "python",
      "name": "python3"
    },
    "language_info": {
      "codemirror_mode": {
        "name": "ipython",
        "version": 3
      },
      "file_extension": ".py",
      "mimetype": "text/x-python",
      "name": "python",
      "nbconvert_exporter": "python",
      "pygments_lexer": "ipython3",
      "version": "3.10.8"
    }
  },
  "nbformat": 4,
  "nbformat_minor": 5
}
