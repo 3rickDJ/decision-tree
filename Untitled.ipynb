{
 "cells": [
  {
   "cell_type": "code",
   "execution_count": null,
   "id": "0ad9b740-527a-4b2a-a707-75630532c363",
   "metadata": {},
   "outputs": [],
   "source": [
    "adw"
   ]
  },
  {
   "cell_type": "code",
   "execution_count": null,
   "id": "cef57c5f-4033-48af-bfa0-636a65e879f6",
   "metadata": {},
   "outputs": [],
   "source": [
    "dwiadw:\n",
    "\n",
    "\n",
    "\n",
    "\n",
    "\n",
    "\n",
    "\n",
    "da wdaiw hd hawuidh uawi \n",
    "doawdi wa"
   ]
  }
 ],
 "metadata": {
  "kernelspec": {
   "display_name": "Python 3 (ipykernel)",
   "language": "python",
   "name": "python3"
  },
  "language_info": {
   "codemirror_mode": {
    "name": "ipython",
    "version": 3
   },
   "file_extension": ".py",
   "mimetype": "text/x-python",
   "name": "python",
   "nbconvert_exporter": "python",
   "pygments_lexer": "ipython3",
   "version": "3.11.6"
  }
 },
 "nbformat": 4,
 "nbformat_minor": 5
}
